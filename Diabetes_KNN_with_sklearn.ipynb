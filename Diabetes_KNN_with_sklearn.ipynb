{
 "cells": [
  {
   "cell_type": "code",
   "execution_count": 163,
   "metadata": {},
   "outputs": [],
   "source": [
    "import pandas as pd\n",
    "import numpy as np\n",
    "import seaborn as sns\n",
    "import matplotlib.pyplot as plt\n",
    "from sklearn.metrics import confusion_matrix, accuracy_score\n",
    "from sklearn.neighbors import KNeighborsClassifier\n",
    "from sklearn.model_selection import train_test_split"
   ]
  },
  {
   "cell_type": "code",
   "execution_count": 164,
   "metadata": {},
   "outputs": [],
   "source": [
    "dfx = pd.read_csv(\"Diabetes_XTrain.csv\")\n",
    "dfy = pd.read_csv(\"Diabetes_YTrain.csv\")"
   ]
  },
  {
   "cell_type": "code",
   "execution_count": 165,
   "metadata": {},
   "outputs": [
    {
     "data": {
      "text/html": [
       "<div>\n",
       "<style scoped>\n",
       "    .dataframe tbody tr th:only-of-type {\n",
       "        vertical-align: middle;\n",
       "    }\n",
       "\n",
       "    .dataframe tbody tr th {\n",
       "        vertical-align: top;\n",
       "    }\n",
       "\n",
       "    .dataframe thead th {\n",
       "        text-align: right;\n",
       "    }\n",
       "</style>\n",
       "<table border=\"1\" class=\"dataframe\">\n",
       "  <thead>\n",
       "    <tr style=\"text-align: right;\">\n",
       "      <th></th>\n",
       "      <th>Pregnancies</th>\n",
       "      <th>Glucose</th>\n",
       "      <th>BloodPressure</th>\n",
       "      <th>SkinThickness</th>\n",
       "      <th>Insulin</th>\n",
       "      <th>BMI</th>\n",
       "      <th>DiabetesPedigreeFunction</th>\n",
       "      <th>Age</th>\n",
       "    </tr>\n",
       "  </thead>\n",
       "  <tbody>\n",
       "    <tr>\n",
       "      <th>0</th>\n",
       "      <td>7</td>\n",
       "      <td>168</td>\n",
       "      <td>88</td>\n",
       "      <td>42</td>\n",
       "      <td>321</td>\n",
       "      <td>38.2</td>\n",
       "      <td>0.787</td>\n",
       "      <td>40</td>\n",
       "    </tr>\n",
       "    <tr>\n",
       "      <th>1</th>\n",
       "      <td>8</td>\n",
       "      <td>110</td>\n",
       "      <td>76</td>\n",
       "      <td>0</td>\n",
       "      <td>0</td>\n",
       "      <td>27.8</td>\n",
       "      <td>0.237</td>\n",
       "      <td>58</td>\n",
       "    </tr>\n",
       "    <tr>\n",
       "      <th>2</th>\n",
       "      <td>7</td>\n",
       "      <td>147</td>\n",
       "      <td>76</td>\n",
       "      <td>0</td>\n",
       "      <td>0</td>\n",
       "      <td>39.4</td>\n",
       "      <td>0.257</td>\n",
       "      <td>43</td>\n",
       "    </tr>\n",
       "    <tr>\n",
       "      <th>3</th>\n",
       "      <td>2</td>\n",
       "      <td>100</td>\n",
       "      <td>66</td>\n",
       "      <td>20</td>\n",
       "      <td>90</td>\n",
       "      <td>32.9</td>\n",
       "      <td>0.867</td>\n",
       "      <td>28</td>\n",
       "    </tr>\n",
       "    <tr>\n",
       "      <th>4</th>\n",
       "      <td>4</td>\n",
       "      <td>129</td>\n",
       "      <td>86</td>\n",
       "      <td>20</td>\n",
       "      <td>270</td>\n",
       "      <td>35.1</td>\n",
       "      <td>0.231</td>\n",
       "      <td>23</td>\n",
       "    </tr>\n",
       "  </tbody>\n",
       "</table>\n",
       "</div>"
      ],
      "text/plain": [
       "   Pregnancies  Glucose  BloodPressure  SkinThickness  Insulin   BMI  \\\n",
       "0            7      168             88             42      321  38.2   \n",
       "1            8      110             76              0        0  27.8   \n",
       "2            7      147             76              0        0  39.4   \n",
       "3            2      100             66             20       90  32.9   \n",
       "4            4      129             86             20      270  35.1   \n",
       "\n",
       "   DiabetesPedigreeFunction  Age  \n",
       "0                     0.787   40  \n",
       "1                     0.237   58  \n",
       "2                     0.257   43  \n",
       "3                     0.867   28  \n",
       "4                     0.231   23  "
      ]
     },
     "execution_count": 165,
     "metadata": {},
     "output_type": "execute_result"
    }
   ],
   "source": [
    "dfx.head()"
   ]
  },
  {
   "cell_type": "code",
   "execution_count": 166,
   "metadata": {},
   "outputs": [
    {
     "data": {
      "text/html": [
       "<div>\n",
       "<style scoped>\n",
       "    .dataframe tbody tr th:only-of-type {\n",
       "        vertical-align: middle;\n",
       "    }\n",
       "\n",
       "    .dataframe tbody tr th {\n",
       "        vertical-align: top;\n",
       "    }\n",
       "\n",
       "    .dataframe thead th {\n",
       "        text-align: right;\n",
       "    }\n",
       "</style>\n",
       "<table border=\"1\" class=\"dataframe\">\n",
       "  <thead>\n",
       "    <tr style=\"text-align: right;\">\n",
       "      <th></th>\n",
       "      <th>Outcome</th>\n",
       "    </tr>\n",
       "  </thead>\n",
       "  <tbody>\n",
       "    <tr>\n",
       "      <th>0</th>\n",
       "      <td>1</td>\n",
       "    </tr>\n",
       "    <tr>\n",
       "      <th>1</th>\n",
       "      <td>0</td>\n",
       "    </tr>\n",
       "    <tr>\n",
       "      <th>2</th>\n",
       "      <td>1</td>\n",
       "    </tr>\n",
       "    <tr>\n",
       "      <th>3</th>\n",
       "      <td>1</td>\n",
       "    </tr>\n",
       "    <tr>\n",
       "      <th>4</th>\n",
       "      <td>0</td>\n",
       "    </tr>\n",
       "  </tbody>\n",
       "</table>\n",
       "</div>"
      ],
      "text/plain": [
       "   Outcome\n",
       "0        1\n",
       "1        0\n",
       "2        1\n",
       "3        1\n",
       "4        0"
      ]
     },
     "execution_count": 166,
     "metadata": {},
     "output_type": "execute_result"
    }
   ],
   "source": [
    "dfy.head()"
   ]
  },
  {
   "cell_type": "code",
   "execution_count": 167,
   "metadata": {},
   "outputs": [],
   "source": [
    "X=dfx\n",
    "Y=dfy.values\n",
    "Y= Y.reshape(-1,)"
   ]
  },
  {
   "cell_type": "code",
   "execution_count": 175,
   "metadata": {},
   "outputs": [
    {
     "data": {
      "text/plain": [
       "array([[121,  13],\n",
       "       [ 36,  32]], dtype=int64)"
      ]
     },
     "execution_count": 175,
     "metadata": {},
     "output_type": "execute_result"
    }
   ],
   "source": [
    "#without scaling\n",
    "X_train, X_test, Y_train, Y_test = train_test_split(X, Y, test_size=0.35, random_state=2)\n",
    "knn = KNeighborsClassifier(n_neighbors=25, metric='euclidean')\n",
    "knn.fit(X_train,Y_train)\n",
    "Y_pred = knn.predict(X_test)\n",
    "confusion_matrix(Y_test, Y_pred)\n"
   ]
  },
  {
   "cell_type": "code",
   "execution_count": 176,
   "metadata": {},
   "outputs": [
    {
     "name": "stdout",
     "output_type": "stream",
     "text": [
      "Without using scaling acuracy:\n"
     ]
    },
    {
     "data": {
      "text/plain": [
       "75.74257425742574"
      ]
     },
     "execution_count": 176,
     "metadata": {},
     "output_type": "execute_result"
    }
   ],
   "source": [
    "print(\"Without using scaling acuracy:\")\n",
    "acc = accuracy_score(Y_test, Y_pred)\n",
    "acc*100"
   ]
  },
  {
   "cell_type": "code",
   "execution_count": 177,
   "metadata": {},
   "outputs": [],
   "source": [
    "#standard scaling\n",
    "from sklearn.preprocessing import StandardScaler\n",
    "from sklearn.metrics import classification_report"
   ]
  },
  {
   "cell_type": "code",
   "execution_count": 178,
   "metadata": {},
   "outputs": [
    {
     "name": "stdout",
     "output_type": "stream",
     "text": [
      "[[ 0.97457151  1.52528095  0.94599501 ...  0.78036618  0.907501\n",
      "   0.59363371]\n",
      " [ 1.27524274 -0.31683408  0.35393439 ... -0.49918316 -0.72639999\n",
      "   2.11034006]\n",
      " [ 0.97457151  0.85830827  0.35393439 ...  0.92800649 -0.66698541\n",
      "   0.8464181 ]\n",
      " ...\n",
      " [-0.52878465  0.06429317 -0.43547977 ... -0.25311598  0.69954996\n",
      "  -0.92307263]\n",
      " [ 0.07255781  1.0806325   0.15658085 ... -0.06856559 -0.42635635\n",
      "   0.34084932]\n",
      " [-0.82945588 -1.01556737  0.45261116 ...  0.01755792 -0.34614667\n",
      "  -0.33324239]]\n"
     ]
    }
   ],
   "source": [
    "# define standard scaler\n",
    "std_scaler = StandardScaler()\n",
    "# transform data\n",
    "std_scaled = std_scaler.fit_transform(X)\n",
    "print(std_scaled)"
   ]
  },
  {
   "cell_type": "code",
   "execution_count": 35,
   "metadata": {},
   "outputs": [
    {
     "name": "stdout",
     "output_type": "stream",
     "text": [
      "[[0.41176471 0.84422111 0.72131148 ... 0.56929955 0.30273271 0.31666667]\n",
      " [0.47058824 0.55276382 0.62295082 ... 0.414307   0.06789069 0.61666667]\n",
      " [0.41176471 0.73869347 0.62295082 ... 0.58718331 0.0764304  0.36666667]\n",
      " ...\n",
      " [0.11764706 0.61306533 0.49180328 ... 0.44411326 0.27284372 0.01666667]\n",
      " [0.23529412 0.77386935 0.59016393 ... 0.46646796 0.11101623 0.26666667]\n",
      " [0.05882353 0.44221106 0.63934426 ... 0.47690015 0.12254483 0.13333333]]\n"
     ]
    }
   ],
   "source": [
    "#MinMax scaling\n",
    "from sklearn.preprocessing import MinMaxScaler\n",
    "scaler = MinMaxScaler()\n",
    "x_scaled = scaler.fit_transform(X)\n",
    "print(x_scaled)\n"
   ]
  },
  {
   "cell_type": "code",
   "execution_count": 179,
   "metadata": {},
   "outputs": [
    {
     "name": "stdout",
     "output_type": "stream",
     "text": [
      "[[0.41176471 0.84422111 0.72131148 ... 0.56929955 0.32520661 0.49382716]\n",
      " [0.47058824 0.55276382 0.62295082 ... 0.414307   0.09793388 0.71604938]\n",
      " [0.41176471 0.73869347 0.62295082 ... 0.58718331 0.10619835 0.5308642 ]\n",
      " ...\n",
      " [0.11764706 0.61306533 0.49180328 ... 0.44411326 0.29628099 0.27160494]\n",
      " [0.23529412 0.77386935 0.59016393 ... 0.46646796 0.13966942 0.45679012]\n",
      " [0.05882353 0.44221106 0.63934426 ... 0.47690015 0.15082645 0.35802469]]\n"
     ]
    }
   ],
   "source": [
    "#Max Abs scaling\n",
    "from sklearn.preprocessing import MaxAbsScaler\n",
    "max_abs_scaler = MaxAbsScaler()\n",
    "maxabs_scaled = max_abs_scaler.fit_transform(X)\n",
    "print(maxabs_scaled)"
   ]
  },
  {
   "cell_type": "code",
   "execution_count": 180,
   "metadata": {},
   "outputs": [
    {
     "name": "stdout",
     "output_type": "stream",
     "text": [
      "[[ 0.8         1.3         0.88888889 ...  0.63589744  1.03049555\n",
      "   0.6875    ]\n",
      " [ 1.         -0.15        0.22222222 ... -0.43076923 -0.36721728\n",
      "   1.8125    ]\n",
      " [ 0.8         0.775       0.22222222 ...  0.75897436 -0.31639136\n",
      "   0.875     ]\n",
      " ...\n",
      " [-0.2         0.15       -0.66666667 ... -0.22564103  0.85260483\n",
      "  -0.4375    ]\n",
      " [ 0.2         0.95        0.         ... -0.07179487 -0.11054638\n",
      "   0.5       ]\n",
      " [-0.4        -0.7         0.33333333 ...  0.         -0.04193139\n",
      "   0.        ]]\n"
     ]
    }
   ],
   "source": [
    "#Robust Scaling\n",
    "from sklearn.preprocessing import RobustScaler\n",
    "robust_scaler = RobustScaler()\n",
    "r_scaled = robust_scaler.fit_transform(X)\n",
    "print(r_scaled)\n"
   ]
  },
  {
   "cell_type": "code",
   "execution_count": 181,
   "metadata": {},
   "outputs": [],
   "source": [
    "X_train, X_test, Y_train, Y_test = train_test_split(std_scaled, Y, test_size=0.35, random_state=2)\n"
   ]
  },
  {
   "cell_type": "code",
   "execution_count": 182,
   "metadata": {},
   "outputs": [
    {
     "data": {
      "text/plain": [
       "KNeighborsClassifier(algorithm='auto', leaf_size=30, metric='euclidean',\n",
       "                     metric_params=None, n_jobs=None, n_neighbors=25, p=2,\n",
       "                     weights='uniform')"
      ]
     },
     "execution_count": 182,
     "metadata": {},
     "output_type": "execute_result"
    }
   ],
   "source": [
    "knn = KNeighborsClassifier(n_neighbors=25, metric='euclidean')\n",
    "knn.fit(X_train,Y_train)"
   ]
  },
  {
   "cell_type": "code",
   "execution_count": 183,
   "metadata": {},
   "outputs": [],
   "source": [
    "Y_pred = knn.predict(X_test)"
   ]
  },
  {
   "cell_type": "code",
   "execution_count": 184,
   "metadata": {},
   "outputs": [
    {
     "data": {
      "text/plain": [
       "array([[129,   5],\n",
       "       [ 41,  27]], dtype=int64)"
      ]
     },
     "execution_count": 184,
     "metadata": {},
     "output_type": "execute_result"
    }
   ],
   "source": [
    "confusion_matrix(Y_test, Y_pred)"
   ]
  },
  {
   "cell_type": "code",
   "execution_count": 185,
   "metadata": {},
   "outputs": [
    {
     "name": "stdout",
     "output_type": "stream",
     "text": [
      "Standard scaler acuracy:\n"
     ]
    },
    {
     "data": {
      "text/plain": [
       "77.22772277227723"
      ]
     },
     "execution_count": 185,
     "metadata": {},
     "output_type": "execute_result"
    }
   ],
   "source": [
    "print(\"Standard scaler acuracy:\")\n",
    "acc = accuracy_score(Y_test, Y_pred)\n",
    "acc*100"
   ]
  },
  {
   "cell_type": "code",
   "execution_count": 204,
   "metadata": {},
   "outputs": [
    {
     "data": {
      "text/plain": [
       "array([[129,   5],\n",
       "       [ 45,  23]], dtype=int64)"
      ]
     },
     "execution_count": 204,
     "metadata": {},
     "output_type": "execute_result"
    }
   ],
   "source": [
    "#min max scale\n",
    "X_train, X_test, Y_train, Y_test = train_test_split(x_scaled, Y, test_size=0.35, random_state=2)\n",
    "knn = KNeighborsClassifier(n_neighbors=29, metric='euclidean')\n",
    "knn.fit(X_train,Y_train)\n",
    "Y_pred = knn.predict(X_test)\n",
    "confusion_matrix(Y_test, Y_pred)\n"
   ]
  },
  {
   "cell_type": "code",
   "execution_count": 205,
   "metadata": {},
   "outputs": [
    {
     "name": "stdout",
     "output_type": "stream",
     "text": [
      "MinMax scaler acuracy:\n"
     ]
    },
    {
     "data": {
      "text/plain": [
       "75.24752475247524"
      ]
     },
     "execution_count": 205,
     "metadata": {},
     "output_type": "execute_result"
    }
   ],
   "source": [
    "print(\"MinMax scaler acuracy:\")\n",
    "acc = accuracy_score(Y_test, Y_pred)\n",
    "acc*100"
   ]
  },
  {
   "cell_type": "code",
   "execution_count": 224,
   "metadata": {},
   "outputs": [
    {
     "data": {
      "text/plain": [
       "array([[131,   3],\n",
       "       [ 47,  21]], dtype=int64)"
      ]
     },
     "execution_count": 224,
     "metadata": {},
     "output_type": "execute_result"
    }
   ],
   "source": [
    "#Max Abs scale\n",
    "X_train, X_test, Y_train, Y_test = train_test_split(maxabs_scaled, Y, test_size=0.35, random_state=2)\n",
    "knn = KNeighborsClassifier(n_neighbors=41, metric='euclidean')\n",
    "knn.fit(X_train,Y_train)\n",
    "Y_pred = knn.predict(X_test)\n",
    "confusion_matrix(Y_test, Y_pred)\n"
   ]
  },
  {
   "cell_type": "code",
   "execution_count": 225,
   "metadata": {},
   "outputs": [
    {
     "name": "stdout",
     "output_type": "stream",
     "text": [
      "MaxAbs scaler acuracy:\n"
     ]
    },
    {
     "data": {
      "text/plain": [
       "75.24752475247524"
      ]
     },
     "execution_count": 225,
     "metadata": {},
     "output_type": "execute_result"
    }
   ],
   "source": [
    "print(\"MaxAbs scaler acuracy:\")\n",
    "acc = accuracy_score(Y_test, Y_pred)\n",
    "acc*100"
   ]
  },
  {
   "cell_type": "code",
   "execution_count": 226,
   "metadata": {},
   "outputs": [
    {
     "data": {
      "text/plain": [
       "array([[125,   9],\n",
       "       [ 40,  28]], dtype=int64)"
      ]
     },
     "execution_count": 226,
     "metadata": {},
     "output_type": "execute_result"
    }
   ],
   "source": [
    "#Robust Scaler accuracy\n",
    "X_train, X_test, Y_train, Y_test = train_test_split(r_scaled, Y, test_size=0.35, random_state=2)\n",
    "knn = KNeighborsClassifier(n_neighbors=25, metric='euclidean')\n",
    "knn.fit(X_train,Y_train)\n",
    "Y_pred = knn.predict(X_test)\n",
    "confusion_matrix(Y_test, Y_pred)\n"
   ]
  },
  {
   "cell_type": "code",
   "execution_count": 227,
   "metadata": {},
   "outputs": [
    {
     "name": "stdout",
     "output_type": "stream",
     "text": [
      "Robust scaler acuracy:\n"
     ]
    },
    {
     "data": {
      "text/plain": [
       "75.74257425742574"
      ]
     },
     "execution_count": 227,
     "metadata": {},
     "output_type": "execute_result"
    }
   ],
   "source": [
    "print(\"Robust scaler acuracy:\")\n",
    "acc = accuracy_score(Y_test, Y_pred)\n",
    "acc*100"
   ]
  },
  {
   "cell_type": "code",
   "execution_count": null,
   "metadata": {},
   "outputs": [],
   "source": []
  }
 ],
 "metadata": {
  "kernelspec": {
   "display_name": "Python 3",
   "language": "python",
   "name": "python3"
  },
  "language_info": {
   "codemirror_mode": {
    "name": "ipython",
    "version": 3
   },
   "file_extension": ".py",
   "mimetype": "text/x-python",
   "name": "python",
   "nbconvert_exporter": "python",
   "pygments_lexer": "ipython3",
   "version": "3.7.6"
  }
 },
 "nbformat": 4,
 "nbformat_minor": 4
}
